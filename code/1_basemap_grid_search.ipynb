{
 "cells": [
  {
   "cell_type": "markdown",
   "id": "a50cd739-46e0-4e09-bf4c-b2d00300d419",
   "metadata": {},
   "source": [
    "# Search Planet Basemap API\n",
    "This script searches the basemap API for basemap grids across the circumpolar region."
   ]
  },
  {
   "cell_type": "markdown",
   "id": "4b3f8590-c52f-402e-9099-ce14933e97a9",
   "metadata": {},
   "source": [
    "## API and Package Set-Up"
   ]
  },
  {
   "cell_type": "code",
   "execution_count": 1,
   "id": "d424df72-b2fd-4736-bb19-32f38fa149f9",
   "metadata": {},
   "outputs": [],
   "source": [
    "import os\n",
    "import json\n",
    "import requests\n",
    "import urllib.request\n",
    "import re\n",
    "import numpy as np\n",
    "import pandas as pd\n",
    "import geopandas as gpd\n",
    "import shapely as shp\n",
    "from pprint import pprint"
   ]
  },
  {
   "cell_type": "code",
   "execution_count": 2,
   "id": "874d32e5-3063-4244-84c8-9f4f2c1be282",
   "metadata": {},
   "outputs": [],
   "source": [
    "# Get Planet API Key\n",
    "%load_ext dotenv\n",
    "%dotenv\n",
    "\n",
    "api_key = os.getenv('PL_BM_API_KEY')"
   ]
  },
  {
   "cell_type": "markdown",
   "id": "3dee8c6a-112d-4de5-9c54-84a28329f91a",
   "metadata": {},
   "source": [
    "## Search for Basemap"
   ]
  },
  {
   "cell_type": "code",
   "execution_count": 3,
   "id": "36af4971-9c63-4c76-8862-20f543e9aad8",
   "metadata": {},
   "outputs": [],
   "source": [
    "#setup Planet base URL\n",
    "API_URL = \"https://api.planet.com/basemaps/v1/mosaics\"\n",
    "\n",
    "#setup session\n",
    "session = requests.Session()\n",
    "\n",
    "#authenticate\n",
    "session.auth = (api_key, \"\")"
   ]
  },
  {
   "cell_type": "code",
   "execution_count": 4,
   "id": "13ff3744-6bf7-4b18-ad4d-abf82ae45206",
   "metadata": {},
   "outputs": [
    {
     "name": "stdout",
     "output_type": "stream",
     "text": [
      "200\n"
     ]
    }
   ],
   "source": [
    "# make get request to access mosaic from basemaps API\n",
    "res = session.get(API_URL)\n",
    "\n",
    "#response status code - should be 200 if there were no errors\n",
    "print(res.status_code)\n",
    "\n",
    "#print metadata for mosaic\n",
    "mosaic = res.json()\n",
    "# print(json.dumps(mosaic, indent=2))\n"
   ]
  },
  {
   "cell_type": "code",
   "execution_count": 16,
   "id": "34a41bad-2d1d-450e-8d4b-d493df47bfcf",
   "metadata": {},
   "outputs": [
    {
     "name": "stdout",
     "output_type": "stream",
     "text": [
      "200\n",
      "['Global Monthly',\n",
      " 'Global Quarterly',\n",
      " 'PS analytic_sr biweekly subscription',\n",
      " 'PS analytic_sr daily subscription',\n",
      " 'PS analytic_sr monthly subscription',\n",
      " 'PS analytic_sr quarterly subscription',\n",
      " 'PS analytic_sr twice_monthly subscription',\n",
      " 'PS analytic_sr weekly subscription',\n",
      " 'PS normalized_analytic biweekly subscription',\n",
      " 'PS normalized_analytic daily subscription',\n",
      " 'PS normalized_analytic monthly L16 subscription',\n",
      " 'PS normalized_analytic monthly subscription',\n",
      " 'PS normalized_analytic quarterly subscription',\n",
      " 'PS normalized_analytic twice_monthly subscription',\n",
      " 'PS normalized_analytic weekly subscription',\n",
      " 'PS sen2_normalized_analytic monthly subscription',\n",
      " 'PS sen2_normalized_analytic quarterly subscription',\n",
      " 'PS sen2_normalized_analytic_8b_sr monthly subscription',\n",
      " 'PS visual biweekly subscription',\n",
      " 'PS visual daily subscription',\n",
      " 'PS visual twice_monthly subscription',\n",
      " 'PS visual weekly subscription']\n",
      "'https://api.planet.com/basemaps/v1/series/060c47b7-57fb-429e-9e5b-bee1c89c6973/mosaics?api_key=PLAKd5b56c4d31f8444387b2eebad24e1c02'\n"
     ]
    },
    {
     "data": {
      "text/plain": [
       "['global_quarterly_2016q3_mosaic',\n",
       " 'global_quarterly_2017q3_mosaic',\n",
       " 'global_quarterly_2018q3_mosaic',\n",
       " 'global_quarterly_2019q3_mosaic',\n",
       " 'global_quarterly_2020q3_mosaic',\n",
       " 'global_quarterly_2021q3_mosaic',\n",
       " 'global_quarterly_2022q3_mosaic',\n",
       " 'global_quarterly_2023q3_mosaic']"
      ]
     },
     "execution_count": 16,
     "metadata": {},
     "output_type": "execute_result"
    }
   ],
   "source": [
    "#make get request to access mosaic from basemaps API\n",
    "res = session.get(\"https://api.planet.com/basemaps/v1/series\")\n",
    "\n",
    "#response status code\n",
    "print(res.status_code)\n",
    "\n",
    "#print names of mosaic options\n",
    "series = res.json()\n",
    "names = [item['name'] for item in series['series']]\n",
    "pprint(names)\n",
    "\n",
    "# print names of global Q3 (July-Sept) mosaics\n",
    "mosaic_link = [\n",
    "    mosaic['_links']['mosaics'] for mosaic in series['series'] if mosaic['name'] == 'Global Quarterly'\n",
    "][0]\n",
    "pprint(mosaic_link)\n",
    "mosaics = session.get(mosaic_link).json()\n",
    "mosaic_names = [mosaic['name'] for mosaic in mosaics['mosaics'] if re.match('^.*q3.*$', mosaic['name'])]\n",
    "mosaic_names"
   ]
  },
  {
   "cell_type": "code",
   "execution_count": 17,
   "id": "6f890fd6-73a3-47ec-aecd-199c92da9a5d",
   "metadata": {},
   "outputs": [
    {
     "name": "stdout",
     "output_type": "stream",
     "text": [
      "200\n",
      "{\n",
      "  \"_links\": {\n",
      "    \"_self\": \"https://api.planet.com/basemaps/v1/mosaics?api_key=PLAKd5b56c4d31f8444387b2eebad24e1c02\"\n",
      "  },\n",
      "  \"mosaics\": [\n",
      "    {\n",
      "      \"_links\": {\n",
      "        \"_self\": \"https://api.planet.com/basemaps/v1/mosaics/b139f491-e6ef-4106-92e8-8a8810066b85?api_key=PLAKd5b56c4d31f8444387b2eebad24e1c02\",\n",
      "        \"quads\": \"https://api.planet.com/basemaps/v1/mosaics/b139f491-e6ef-4106-92e8-8a8810066b85/quads?api_key=PLAKd5b56c4d31f8444387b2eebad24e1c02&bbox={lx},{ly},{ux},{uy}\",\n",
      "        \"tiles\": \"https://tiles.planet.com/basemaps/v1/planet-tiles/global_quarterly_2018q3_mosaic/gmap/{z}/{x}/{y}.png?api_key=PLAKd5b56c4d31f8444387b2eebad24e1c02\"\n",
      "      },\n",
      "      \"bbox\": [\n",
      "        -180,\n",
      "        -56.072035,\n",
      "        180,\n",
      "        76.016094\n",
      "      ],\n",
      "      \"coordinate_system\": \"EPSG:3857\",\n",
      "      \"datatype\": \"byte\",\n",
      "      \"first_acquired\": \"2018-07-01T00:00:00.000Z\",\n",
      "      \"grid\": {\n",
      "        \"quad_size\": 4096,\n",
      "        \"resolution\": 4.777314267823516\n",
      "      },\n",
      "      \"id\": \"b139f491-e6ef-4106-92e8-8a8810066b85\",\n",
      "      \"interval\": \"3 mons\",\n",
      "      \"item_types\": [\n",
      "        \"PSScene\",\n",
      "        \"REOrthoTile\"\n",
      "      ],\n",
      "      \"last_acquired\": \"2018-10-01T00:00:00.000Z\",\n",
      "      \"level\": 15,\n",
      "      \"name\": \"global_quarterly_2018q3_mosaic\",\n",
      "      \"product_type\": \"timelapse\",\n",
      "      \"quad_download\": true\n",
      "    }\n",
      "  ]\n",
      "}\n"
     ]
    }
   ],
   "source": [
    "#set params for search using name of mosaic\n",
    "parameters = {\n",
    "    \"name__is\": mosaic_names[2]\n",
    "}\n",
    "\n",
    "#make get request to access mosaic from basemaps API\n",
    "res = session.get(API_URL, params = parameters)\n",
    "\n",
    "#response status code\n",
    "print(res.status_code)\n",
    "\n",
    "#print metadata for mosaic\n",
    "mosaic = res.json()\n",
    "print(json.dumps(mosaic, indent=2))"
   ]
  },
  {
   "cell_type": "code",
   "execution_count": 20,
   "id": "a2d67537-55b0-48b6-af36-33b3d7a535bc",
   "metadata": {},
   "outputs": [
    {
     "name": "stdout",
     "output_type": "stream",
     "text": [
      "b139f491-e6ef-4106-92e8-8a8810066b85\n",
      "[-180, -56.072035, 180, 76.016094]\n"
     ]
    }
   ],
   "source": [
    "#get id\n",
    "mosaic_id = mosaic['mosaics'][0]['id']\n",
    "\n",
    "#get bbox for entire mosaic\n",
    "mosaic_bbox = mosaic['mosaics'][0]['bbox']\n",
    "\n",
    "print(mosaic_id)\n",
    "print(mosaic_bbox)"
   ]
  },
  {
   "cell_type": "code",
   "execution_count": 21,
   "id": "a7214427-87bc-486b-9c1f-24df1f995368",
   "metadata": {},
   "outputs": [],
   "source": [
    "#converting bbox to string for search params\n",
    "string_bbox = '-180,40,180,85'\n",
    "\n",
    "#search for mosaic quad using AOI\n",
    "search_parameters = {\n",
    "    'bbox': string_bbox,\n",
    "    'minimal': True\n",
    "}"
   ]
  },
  {
   "cell_type": "code",
   "execution_count": 23,
   "id": "15d7702d-84ff-4c1e-9cd0-c8679ef28b65",
   "metadata": {},
   "outputs": [],
   "source": [
    "#accessing quads using metadata from mosaic\n",
    "quads_url = \"{}/{}/quads\".format(API_URL, mosaic_id)\n",
    "\n",
    "#send request\n",
    "res = session.get(quads_url, params=search_parameters, stream=True)\n",
    "\n",
    "quads = res.json()\n",
    "# pprint(quads)\n",
    "\n",
    "item_id = [item['id'] for item in quads['items']]\n",
    "link = [item['_links']['download'] for item in quads['items']]\n",
    "percent_covered = [item['percent_covered'] for item in quads['items']]\n",
    "geom = [\n",
    "            shp.geometry.box(item['bbox'][0], item['bbox'][1], item['bbox'][2], item['bbox'][3]) \n",
    "            for item \n",
    "            in quads['items']\n",
    "        ]\n",
    "# print(item_id)\n",
    "\n",
    "try:\n",
    "    next_link = quads['_links']['_next']\n",
    "    # print(next_link)\n",
    "except:\n",
    "    next_link = None\n",
    "    \n",
    "while next_link:\n",
    "    res = session.get(next_link, stream=True)\n",
    "    quads = res.json()\n",
    "\n",
    "    item_id = item_id + [item['id'] for item in quads['items']]\n",
    "    link = link + [item['_links']['download'] for item in quads['items']]\n",
    "    percent_covered = percent_covered + [item['percent_covered'] for item in quads['items']]\n",
    "    geom = geom + [\n",
    "        shp.geometry.box(item['bbox'][0], item['bbox'][1], item['bbox'][2], item['bbox'][3]) \n",
    "        for item \n",
    "        in quads['items']\n",
    "    ]\n",
    "\n",
    "    try:\n",
    "        next_link = quads['_links']['_next']\n",
    "        # print(next_link)\n",
    "    except:\n",
    "        next_link = None"
   ]
  },
  {
   "cell_type": "code",
   "execution_count": 24,
   "id": "d12c7f2b-07cf-4ae9-8604-2819c0480f27",
   "metadata": {},
   "outputs": [
    {
     "data": {
      "text/html": [
       "<div>\n",
       "<style scoped>\n",
       "    .dataframe tbody tr th:only-of-type {\n",
       "        vertical-align: middle;\n",
       "    }\n",
       "\n",
       "    .dataframe tbody tr th {\n",
       "        vertical-align: top;\n",
       "    }\n",
       "\n",
       "    .dataframe thead th {\n",
       "        text-align: right;\n",
       "    }\n",
       "</style>\n",
       "<table border=\"1\" class=\"dataframe\">\n",
       "  <thead>\n",
       "    <tr style=\"text-align: right;\">\n",
       "      <th></th>\n",
       "      <th>id</th>\n",
       "      <th>link</th>\n",
       "      <th>percent_covered</th>\n",
       "      <th>geometry</th>\n",
       "    </tr>\n",
       "  </thead>\n",
       "  <tbody>\n",
       "    <tr>\n",
       "      <th>0</th>\n",
       "      <td>319-1707</td>\n",
       "      <td>https://api.planet.com/basemaps/v1/mosaics/b13...</td>\n",
       "      <td>None</td>\n",
       "      <td>POLYGON ((-123.75000 75.97355, -123.75000 76.0...</td>\n",
       "    </tr>\n",
       "    <tr>\n",
       "      <th>1</th>\n",
       "      <td>320-1707</td>\n",
       "      <td>https://api.planet.com/basemaps/v1/mosaics/b13...</td>\n",
       "      <td>None</td>\n",
       "      <td>POLYGON ((-123.57422 75.97355, -123.57422 76.0...</td>\n",
       "    </tr>\n",
       "    <tr>\n",
       "      <th>2</th>\n",
       "      <td>321-1707</td>\n",
       "      <td>https://api.planet.com/basemaps/v1/mosaics/b13...</td>\n",
       "      <td>None</td>\n",
       "      <td>POLYGON ((-123.39844 75.97355, -123.39844 76.0...</td>\n",
       "    </tr>\n",
       "    <tr>\n",
       "      <th>3</th>\n",
       "      <td>322-1707</td>\n",
       "      <td>https://api.planet.com/basemaps/v1/mosaics/b13...</td>\n",
       "      <td>None</td>\n",
       "      <td>POLYGON ((-123.22266 75.97355, -123.22266 76.0...</td>\n",
       "    </tr>\n",
       "    <tr>\n",
       "      <th>4</th>\n",
       "      <td>323-1707</td>\n",
       "      <td>https://api.planet.com/basemaps/v1/mosaics/b13...</td>\n",
       "      <td>None</td>\n",
       "      <td>POLYGON ((-123.04688 75.97355, -123.04688 76.0...</td>\n",
       "    </tr>\n",
       "    <tr>\n",
       "      <th>...</th>\n",
       "      <td>...</td>\n",
       "      <td>...</td>\n",
       "      <td>...</td>\n",
       "      <td>...</td>\n",
       "    </tr>\n",
       "    <tr>\n",
       "      <th>545015</th>\n",
       "      <td>1830-1272</td>\n",
       "      <td>https://api.planet.com/basemaps/v1/mosaics/b13...</td>\n",
       "      <td>None</td>\n",
       "      <td>POLYGON ((141.85547 39.90974, 141.85547 40.044...</td>\n",
       "    </tr>\n",
       "    <tr>\n",
       "      <th>545016</th>\n",
       "      <td>1831-1272</td>\n",
       "      <td>https://api.planet.com/basemaps/v1/mosaics/b13...</td>\n",
       "      <td>None</td>\n",
       "      <td>POLYGON ((142.03125 39.90974, 142.03125 40.044...</td>\n",
       "    </tr>\n",
       "    <tr>\n",
       "      <th>545017</th>\n",
       "      <td>1832-1272</td>\n",
       "      <td>https://api.planet.com/basemaps/v1/mosaics/b13...</td>\n",
       "      <td>None</td>\n",
       "      <td>POLYGON ((142.20703 39.90974, 142.20703 40.044...</td>\n",
       "    </tr>\n",
       "    <tr>\n",
       "      <th>545018</th>\n",
       "      <td>1833-1272</td>\n",
       "      <td>https://api.planet.com/basemaps/v1/mosaics/b13...</td>\n",
       "      <td>None</td>\n",
       "      <td>POLYGON ((142.38281 39.90974, 142.38281 40.044...</td>\n",
       "    </tr>\n",
       "    <tr>\n",
       "      <th>545019</th>\n",
       "      <td>1834-1272</td>\n",
       "      <td>https://api.planet.com/basemaps/v1/mosaics/b13...</td>\n",
       "      <td>None</td>\n",
       "      <td>POLYGON ((142.55859 39.90974, 142.55859 40.044...</td>\n",
       "    </tr>\n",
       "  </tbody>\n",
       "</table>\n",
       "<p>545020 rows × 4 columns</p>\n",
       "</div>"
      ],
      "text/plain": [
       "               id                                               link  \\\n",
       "0        319-1707  https://api.planet.com/basemaps/v1/mosaics/b13...   \n",
       "1        320-1707  https://api.planet.com/basemaps/v1/mosaics/b13...   \n",
       "2        321-1707  https://api.planet.com/basemaps/v1/mosaics/b13...   \n",
       "3        322-1707  https://api.planet.com/basemaps/v1/mosaics/b13...   \n",
       "4        323-1707  https://api.planet.com/basemaps/v1/mosaics/b13...   \n",
       "...           ...                                                ...   \n",
       "545015  1830-1272  https://api.planet.com/basemaps/v1/mosaics/b13...   \n",
       "545016  1831-1272  https://api.planet.com/basemaps/v1/mosaics/b13...   \n",
       "545017  1832-1272  https://api.planet.com/basemaps/v1/mosaics/b13...   \n",
       "545018  1833-1272  https://api.planet.com/basemaps/v1/mosaics/b13...   \n",
       "545019  1834-1272  https://api.planet.com/basemaps/v1/mosaics/b13...   \n",
       "\n",
       "       percent_covered                                           geometry  \n",
       "0                 None  POLYGON ((-123.75000 75.97355, -123.75000 76.0...  \n",
       "1                 None  POLYGON ((-123.57422 75.97355, -123.57422 76.0...  \n",
       "2                 None  POLYGON ((-123.39844 75.97355, -123.39844 76.0...  \n",
       "3                 None  POLYGON ((-123.22266 75.97355, -123.22266 76.0...  \n",
       "4                 None  POLYGON ((-123.04688 75.97355, -123.04688 76.0...  \n",
       "...                ...                                                ...  \n",
       "545015            None  POLYGON ((141.85547 39.90974, 141.85547 40.044...  \n",
       "545016            None  POLYGON ((142.03125 39.90974, 142.03125 40.044...  \n",
       "545017            None  POLYGON ((142.20703 39.90974, 142.20703 40.044...  \n",
       "545018            None  POLYGON ((142.38281 39.90974, 142.38281 40.044...  \n",
       "545019            None  POLYGON ((142.55859 39.90974, 142.55859 40.044...  \n",
       "\n",
       "[545020 rows x 4 columns]"
      ]
     },
     "execution_count": 24,
     "metadata": {},
     "output_type": "execute_result"
    }
   ],
   "source": [
    "yg_grids = gpd.GeoDataFrame(\n",
    "    data = pd.DataFrame({\n",
    "        'id': item_id,\n",
    "        'link': link,\n",
    "        'percent_covered': percent_covered,\n",
    "    }),\n",
    "    geometry = gpd.GeoSeries(\n",
    "        data = geom,\n",
    "        crs = 'EPSG:4326'\n",
    "    )\n",
    ")\n",
    "\n",
    "yg_grids"
   ]
  },
  {
   "cell_type": "code",
   "execution_count": 31,
   "id": "765feec3-ca97-4ed3-b0b2-431d3987e27e",
   "metadata": {},
   "outputs": [],
   "source": [
    "yg_grids.to_file('../data/yg_global_basemap_grids.geojson')"
   ]
  }
 ],
 "metadata": {
  "kernelspec": {
   "display_name": "Python 3 (ipykernel)",
   "language": "python",
   "name": "python3"
  },
  "language_info": {
   "codemirror_mode": {
    "name": "ipython",
    "version": 3
   },
   "file_extension": ".py",
   "mimetype": "text/x-python",
   "name": "python",
   "nbconvert_exporter": "python",
   "pygments_lexer": "ipython3",
   "version": "3.8.13"
  }
 },
 "nbformat": 4,
 "nbformat_minor": 5
}
